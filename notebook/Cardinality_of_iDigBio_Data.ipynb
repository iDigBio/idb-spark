{
 "cells": [
  {
   "cell_type": "code",
   "execution_count": 9,
   "metadata": {
    "collapsed": false
   },
   "outputs": [],
   "source": [
    "%matplotlib inline \n",
    "from ggplot import *\n",
    "import pandas as pd\n",
    "from os import listdir\n",
    "\n",
    "def get_counts(fn):\n",
    "    return pd.read_csv(fn, header=None, names=[\"value\", \"count\"])\n",
    "\n",
    "def load_output_dir(dn, fields=[]):\n",
    "    retval = {}\n",
    "    if not fields:\n",
    "        files = listdir(dn)\n",
    "        for l in files:\n",
    "            fields.append(l[len(\"unique_\"):-1 * len(\".csv\")])\n",
    "\n",
    "    for d in fields:\n",
    "        l = \"{0}/unique_{1}.csv\".format(dn, d)\n",
    "        retval[d] = get_counts(l)\n",
    "        \n",
    "    return retval\n",
    "\n",
    "\n",
    "def plot_bar(df, y, title, xlabel, ylabel, log=False):\n",
    "    p = ggplot(aes(x=\"x\", y=y), data=df) \\\n",
    "        + geom_bar(stat='identity') \\\n",
    "        + theme(axis_text_x = element_text(angle = 90, hjust = 0.5)) \\\n",
    "        + scale_x_discrete(limits=(0 - 0.5, df.shape[0] + 0.5), \n",
    "                           breaks=range(0, df.shape[0]), \n",
    "                           labels=df.index) \\\n",
    "        + ggtitle(title) \\\n",
    "        + xlab(xlabel) \\\n",
    "        + ylab(ylabel)\n",
    "        \n",
    "    if log:\n",
    "        p = p + scale_y_log10()\n",
    "        \n",
    "    return p\n",
    "\n",
    "\n",
    "def plot_hist(df, x, title, xlabel, ylabel):\n",
    "    # Figure size: https://github.com/yhat/ggplot/issues/95\n",
    "    p = ggplot(aes(x=x), data=df) \\\n",
    "    + geom_histogram() \\\n",
    "    + scale_x_continuous(limits=(0-0.01, max(df[x].max()+0.01, .11))) \\\n",
    "    + ggtitle(title) \\\n",
    "    + xlab(xlabel) \\\n",
    "    + ylab(ylabel) \\\n",
    "    + theme_matplotlib(rc={\"figure.figsize\": \"11, 4\", \"figure.max_open_warning\": False}, \n",
    "                       matplotlib_defaults=False)\n",
    "    return p"
   ]
  },
  {
   "cell_type": "code",
   "execution_count": 10,
   "metadata": {
    "collapsed": false
   },
   "outputs": [],
   "source": [
    "# Subset of fields for developing graphs\n",
    "testing_fields = [\"dwc_country\", \"idigbio_etag\", \"dwc_locality\", \"dwc_recordNumber\", \"dwc_county\"]\n",
    "\n",
    "# small recordset\n",
    "recordset = \"00d9fcc1-c8e2-4ef6-be64-9994ca6a32c3\"\n",
    "\n",
    "# all of iDigBio ~4 min & 24 GB to load\n",
    "#recordset = \"idigbio\""
   ]
  },
  {
   "cell_type": "code",
   "execution_count": null,
   "metadata": {
    "collapsed": false
   },
   "outputs": [],
   "source": [
    "counts = load_output_dir(\"../out_{0}\".format(recordset))"
   ]
  },
  {
   "cell_type": "code",
   "execution_count": null,
   "metadata": {
    "collapsed": false,
    "scrolled": true
   },
   "outputs": [],
   "source": [
    "# Build dataframe contianing the number of unique values for every field\n",
    "\n",
    "c = {}\n",
    "for k, df in counts.iteritems():\n",
    "#    # reduce to just testing data\n",
    "#    if testing_fields and not k in testing_fields:\n",
    "#        continue\n",
    "    c[k] = df.shape[0]\n",
    "\n",
    "#print c\n",
    "cardinalities = pd.DataFrame(c.values(), index=c.keys(), columns=[\"card\"])\n",
    "\n",
    "# Reduce the dataframe to just those fields that are not completely unique and those\n",
    "# fields that are sparesely populated.\n",
    "max_card = cardinalities.max()[\"card\"] * 0.95\n",
    "#min_card = cardinalities[cardinalities[\"card\"] > 0].min()[\"card\"] * 100\n",
    "#min_card = 100000\n",
    "min_card = 100\n",
    "print max_card\n",
    "print min_card\n",
    "cardinalities = cardinalities[cardinalities[\"card\"] < max_card]\n",
    "cardinalities = cardinalities[cardinalities[\"card\"] > min_card]\n"
   ]
  },
  {
   "cell_type": "code",
   "execution_count": null,
   "metadata": {
    "collapsed": false,
    "scrolled": false
   },
   "outputs": [],
   "source": [
    "# Sort for plotting and add an integer for the x-axis\n",
    "cardinalities.sort(columns=\"card\", inplace=True, ascending=False)\n",
    "cardinalities[\"x\"] = range(0, cardinalities.shape[0])\n",
    "\n",
    "\n",
    "# small record set sizes: 187      389,196  146,346   80,476        3,180\n",
    "#                         country  etag     locality  recordNumber  county\n",
    "\n",
    "p = plot_bar(cardinalities, \"card\",\n",
    "             \"Cardinality of Fields in iDigBio\",\n",
    "             \"Field Name\",\n",
    "             \"Unique Values in Field\")\n",
    "p\n"
   ]
  },
  {
   "cell_type": "code",
   "execution_count": 15,
   "metadata": {
    "collapsed": false,
    "scrolled": true
   },
   "outputs": [
    {
     "ename": "KeyError",
     "evalue": "'dwc_kingdom'",
     "output_type": "error",
     "traceback": [
      "\u001b[1;31m---------------------------------------------------------------------------\u001b[0m",
      "\u001b[1;31mKeyError\u001b[0m                                  Traceback (most recent call last)",
      "\u001b[1;32m<ipython-input-15-40a2d64e081a>\u001b[0m in \u001b[0;36m<module>\u001b[1;34m()\u001b[0m\n\u001b[0;32m     18\u001b[0m \u001b[1;31m#for f in counts.keys():\u001b[0m\u001b[1;33m\u001b[0m\u001b[1;33m\u001b[0m\u001b[0m\n\u001b[0;32m     19\u001b[0m \u001b[1;33m\u001b[0m\u001b[0m\n\u001b[1;32m---> 20\u001b[1;33m     \u001b[0mcounts\u001b[0m\u001b[1;33m[\u001b[0m\u001b[0mf\u001b[0m\u001b[1;33m]\u001b[0m\u001b[1;33m[\u001b[0m\u001b[1;34m\"norm\"\u001b[0m\u001b[1;33m]\u001b[0m \u001b[1;33m=\u001b[0m \u001b[0mcounts\u001b[0m\u001b[1;33m[\u001b[0m\u001b[0mf\u001b[0m\u001b[1;33m]\u001b[0m\u001b[1;33m[\u001b[0m\u001b[1;34m\"count\"\u001b[0m\u001b[1;33m]\u001b[0m \u001b[1;33m/\u001b[0m \u001b[0mcounts\u001b[0m\u001b[1;33m[\u001b[0m\u001b[0mf\u001b[0m\u001b[1;33m]\u001b[0m\u001b[1;33m[\u001b[0m\u001b[1;34m\"count\"\u001b[0m\u001b[1;33m]\u001b[0m\u001b[1;33m.\u001b[0m\u001b[0msum\u001b[0m\u001b[1;33m(\u001b[0m\u001b[1;33m)\u001b[0m\u001b[1;33m\u001b[0m\u001b[0m\n\u001b[0m\u001b[0;32m     21\u001b[0m \u001b[1;33m\u001b[0m\u001b[0m\n\u001b[0;32m     22\u001b[0m     figs.append(plot_hist(counts[f], \"norm\", \n",
      "\u001b[1;31mKeyError\u001b[0m: 'dwc_kingdom'"
     ]
    }
   ],
   "source": [
    "# Now per-field frequency distributions of values\n",
    "# Really need some kind of normalization. \n",
    "# \n",
    "# Not that useful, these plots end up being a big spike on the left and a little spike on the\n",
    "# right. Keeping one running as an example\n",
    "# Sentance to read to interprete these: In this field, \n",
    "# [y-axis] values occur in [x-axis] percent of the records.\n",
    "\n",
    "\n",
    "fields = [\"dwc_kingdom\"]\n",
    "#print counts[field][\"count\"].sum()\n",
    "#print counts[field].describe()\n",
    "#print counts[field].sort(\"count\", ascending=True).head()\n",
    "#print counts[field].sort(\"count\", ascending=False).head()\n",
    "\n",
    "figs = []\n",
    "for f in fields:\n",
    "#for f in counts.keys():\n",
    "    \n",
    "    counts[f][\"norm\"] = counts[f][\"count\"] / counts[f][\"count\"].sum()\n",
    "    \n",
    "    figs.append(plot_hist(counts[f], \"norm\", \n",
    "                  \"Histogram of occurence of values in Field {0}\".format(f), \n",
    "                  \"Relative frequencey of how often the value occurs in this field\", \n",
    "                  \"Count of how many values occur this often\")\n",
    "                )\n",
    "# Just put the array on the last line, don't try calling draw()\n",
    "figs"
   ]
  },
  {
   "cell_type": "code",
   "execution_count": 16,
   "metadata": {
    "collapsed": false
   },
   "outputs": [
    {
     "name": "stderr",
     "output_type": "stream",
     "text": [
      "/usr/local/lib/python2.7/dist-packages/pandas/core/frame.py:1825: UserWarning: Boolean Series key will be reindexed to match DataFrame index.\n",
      "  \"DataFrame index.\", UserWarning)\n"
     ]
    },
    {
     "ename": "KeyError",
     "evalue": "'idigbio_flags'",
     "output_type": "error",
     "traceback": [
      "\u001b[1;31m---------------------------------------------------------------------------\u001b[0m",
      "\u001b[1;31mKeyError\u001b[0m                                  Traceback (most recent call last)",
      "\u001b[1;32m<ipython-input-16-e158b864a926>\u001b[0m in \u001b[0;36m<module>\u001b[1;34m()\u001b[0m\n\u001b[0;32m     19\u001b[0m \u001b[1;32mfor\u001b[0m \u001b[0mf\u001b[0m \u001b[1;32min\u001b[0m \u001b[0mtesting_fields\u001b[0m \u001b[1;33m+\u001b[0m \u001b[0mfields\u001b[0m\u001b[1;33m:\u001b[0m\u001b[1;33m\u001b[0m\u001b[0m\n\u001b[0;32m     20\u001b[0m \u001b[1;31m#for f in counts.keys():\u001b[0m\u001b[1;33m\u001b[0m\u001b[1;33m\u001b[0m\u001b[0m\n\u001b[1;32m---> 21\u001b[1;33m     \u001b[0mdf\u001b[0m \u001b[1;33m=\u001b[0m \u001b[0mcounts\u001b[0m\u001b[1;33m[\u001b[0m\u001b[0mf\u001b[0m\u001b[1;33m]\u001b[0m\u001b[1;33m.\u001b[0m\u001b[0msort\u001b[0m\u001b[1;33m(\u001b[0m\u001b[1;34m\"count\"\u001b[0m\u001b[1;33m)\u001b[0m\u001b[1;33m[\u001b[0m \u001b[0mcounts\u001b[0m\u001b[1;33m[\u001b[0m\u001b[0mf\u001b[0m\u001b[1;33m]\u001b[0m\u001b[1;33m[\u001b[0m\u001b[1;34m\"value\"\u001b[0m\u001b[1;33m]\u001b[0m\u001b[1;33m.\u001b[0m\u001b[0mnotnull\u001b[0m\u001b[1;33m(\u001b[0m\u001b[1;33m)\u001b[0m \u001b[1;33m]\u001b[0m\u001b[1;33m\u001b[0m\u001b[0m\n\u001b[0m\u001b[0;32m     22\u001b[0m \u001b[1;33m\u001b[0m\u001b[0m\n\u001b[0;32m     23\u001b[0m     \u001b[1;32mif\u001b[0m \u001b[1;32mnot\u001b[0m \u001b[0mdf\u001b[0m\u001b[1;33m.\u001b[0m\u001b[0mshape\u001b[0m\u001b[1;33m[\u001b[0m\u001b[1;36m0\u001b[0m\u001b[1;33m]\u001b[0m \u001b[1;33m>\u001b[0m \u001b[1;36m0\u001b[0m\u001b[1;33m:\u001b[0m\u001b[1;33m\u001b[0m\u001b[0m\n",
      "\u001b[1;31mKeyError\u001b[0m: 'idigbio_flags'"
     ]
    }
   ],
   "source": [
    "# As an alternative to the above, lets try a cumulative records graph. This shows the \n",
    "# cumulative number of records as each value is considered from most uncommon value to most \n",
    "# common.\n",
    "\n",
    "def plot_line(df, x, y, title, xlabel, ylabel, log=False):\n",
    "    p = ggplot(aes(x=x, y=y), data=df) \\\n",
    "        + geom_line(size=3) \\\n",
    "        + ggtitle(title) \\\n",
    "        + xlab(xlabel) \\\n",
    "        + ylab(ylabel)\n",
    "#        + scale_x_discrete(limits=(0 - 0.5, df.shape[0] + 0.5), \n",
    "#                           breaks=range(0, df.shape[0]), \n",
    "#                           labels=df.index) \\        \n",
    "#  + theme(axis_text_x = element_text(angle = 90, hjust = 0.5)) \\      \n",
    "    if log:\n",
    "        p = p + scale_y_log10()\n",
    "        \n",
    "    return p\n",
    "\n",
    "\n",
    "fields = [\"idigbio_flags\"]\n",
    "figs = []\n",
    "for f in testing_fields + fields:\n",
    "#for f in counts.keys():\n",
    "    df = counts[f].sort(\"count\")[ counts[f][\"value\"].notnull() ]\n",
    "    \n",
    "    if not df.shape[0] > 0:\n",
    "        continue \n",
    "        \n",
    "    #df.sort(\"count\", inplace=True, ascending=True)\n",
    "    df[\"cum_count\"] = df[\"count\"].cumsum()\n",
    "    df[\"cum_perc_pop\"] = df[\"cum_count\"] / df[\"count\"].sum() * 100\n",
    "    # add increasing integer x for plotting\n",
    "    df[\"x\"] = range(0, df.shape[0])\n",
    "    #print df.head()\n",
    "    #print df.tail()\n",
    "    figs.append(plot_line(df, \"x\", \"cum_perc_pop\",\n",
    "                         \"Cumulation of record counts by value for {}\".format(f),\n",
    "                         \"Values, ascending frequency\",\n",
    "                         \"Cumulative percent of records with value populated\"))\n",
    "\n",
    "figs"
   ]
  },
  {
   "cell_type": "code",
   "execution_count": null,
   "metadata": {
    "collapsed": true
   },
   "outputs": [],
   "source": []
  }
 ],
 "metadata": {
  "kernelspec": {
   "display_name": "Python 2",
   "language": "python",
   "name": "python2"
  },
  "language_info": {
   "codemirror_mode": {
    "name": "ipython",
    "version": 2
   },
   "file_extension": ".py",
   "mimetype": "text/x-python",
   "name": "python",
   "nbconvert_exporter": "python",
   "pygments_lexer": "ipython2",
   "version": "2.7.6"
  }
 },
 "nbformat": 4,
 "nbformat_minor": 0
}
