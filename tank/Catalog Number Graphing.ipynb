{
 "cells": [
  {
   "cell_type": "markdown",
   "metadata": {},
   "source": [
    "# Graphing catalog numbers vs rank\n",
    "\n",
    "Are collection codes typically sequential? Let's graph only numeric codes (can do work to conver alpha-numeric codes to based 10 numeric) vs their rank. If codes are sequential we should have a straight line with slope = 1."
   ]
  },
  {
   "cell_type": "code",
   "execution_count": 44,
   "metadata": {
    "collapsed": true
   },
   "outputs": [],
   "source": [
    "import pyspark.sql.functions as sql\n",
    "import pyspark.sql.types as types"
   ]
  },
  {
   "cell_type": "code",
   "execution_count": 6,
   "metadata": {
    "collapsed": false
   },
   "outputs": [
    {
     "data": {
      "text/plain": [
       "75569035"
      ]
     },
     "execution_count": 6,
     "metadata": {},
     "output_type": "execute_result"
    }
   ],
   "source": [
    "idb_df_version = \"20170130\"\n",
    "idb_df = sqlContext.read.parquet(\"/guoda/data/idigbio-{0}.parquet\".format(idb_df_version))\n",
    "idb_df.count()"
   ]
  },
  {
   "cell_type": "markdown",
   "metadata": {},
   "source": [
    "To test our code, find one collection that seems to have numeric ids. Go to the search API and find the most common catalog number:\n",
    "\n",
    "[http://search.idigbio.org/v2/summary/top/records?top_fields=catalognumber&count=100](http://search.idigbio.org/v2/summary/top/records?top_fields=catalognumber&count=100)\n",
    "\n",
    "(It is possible that some collections use \"good\" catalog numbers that are UUIDs or other forms of GUIDs. This work can never apply to them.)\n",
    "\n",
    "And then look for collection codes that use something popular like \"100\":\n",
    "\n",
    "[http://search.idigbio.org/v2/summary/top/records?top_fields=recordset&rq={%22catalognumber%22:%22100%22}](http://search.idigbio.org/v2/summary/top/records?top_fields=recordset&rq={%22catalognumber%22:%22100%22})\n",
    "\n",
    "Looks like the recordset a6eee223-cf3b-4079-8bb2-b77dad8cae9d has 4 records with this number and 6M records so it sounds interesting but let's start with 271a9ce9-c6d3-4b63-a722-cb0adc48863f since it has 1.8M records and will be a bit easier to work with."
   ]
  },
  {
   "cell_type": "code",
   "execution_count": 16,
   "metadata": {
    "collapsed": false
   },
   "outputs": [
    {
     "data": {
      "text/plain": [
       "1870300"
      ]
     },
     "execution_count": 16,
     "metadata": {},
     "output_type": "execute_result"
    }
   ],
   "source": [
    "subset = (idb_df\n",
    "          .select(idb_df.catalognumber)\n",
    "          .where(idb_df.recordset == \"271a9ce9-c6d3-4b63-a722-cb0adc48863f\")\n",
    "          )\n",
    "subset.cache()\n",
    "subset.count()"
   ]
  },
  {
   "cell_type": "markdown",
   "metadata": {},
   "source": [
    "## Is there anything that is not numeric?"
   ]
  },
  {
   "cell_type": "code",
   "execution_count": 17,
   "metadata": {
    "collapsed": false
   },
   "outputs": [
    {
     "name": "stdout",
     "output_type": "stream",
     "text": [
      "0\n"
     ]
    }
   ],
   "source": [
    "print(subset.where(subset.catalognumber == \"0\").count())"
   ]
  },
  {
   "cell_type": "code",
   "execution_count": 45,
   "metadata": {
    "collapsed": false
   },
   "outputs": [],
   "source": [
    "def to_int(s):\n",
    "    try:\n",
    "        return int(s)\n",
    "    except:\n",
    "        # 0 is a terrible flag value but it is graphable so we can see\n",
    "        # how bad things are\n",
    "        return 0\n",
    "    \n",
    "to_int_udf = sql.udf(to_int, types.IntegerType())"
   ]
  },
  {
   "cell_type": "code",
   "execution_count": 46,
   "metadata": {
    "collapsed": true
   },
   "outputs": [],
   "source": [
    "catalognumbers = (subset\n",
    "                  .withColumn(\"number\", to_int_udf(subset.catalognumber))\n",
    "                  )"
   ]
  },
  {
   "cell_type": "code",
   "execution_count": 47,
   "metadata": {
    "collapsed": false
   },
   "outputs": [
    {
     "name": "stdout",
     "output_type": "stream",
     "text": [
      "500279\n"
     ]
    }
   ],
   "source": [
    "print(catalognumbers.where(catalognumbers.number == 0).count())"
   ]
  },
  {
   "cell_type": "code",
   "execution_count": 48,
   "metadata": {
    "collapsed": false
   },
   "outputs": [
    {
     "data": {
      "text/plain": [
       "[Row(catalognumber='r-70049', number=0),\n",
       " Row(catalognumber='a-121712', number=0),\n",
       " Row(catalognumber='r-108613', number=0),\n",
       " Row(catalognumber='ipga-20754', number=0),\n",
       " Row(catalognumber='a-4510', number=0),\n",
       " Row(catalognumber='a-133146', number=0),\n",
       " Row(catalognumber='r-152495', number=0),\n",
       " Row(catalognumber='a-102262', number=0),\n",
       " Row(catalognumber='a-8471', number=0),\n",
       " Row(catalognumber='r-1784', number=0)]"
      ]
     },
     "execution_count": 48,
     "metadata": {},
     "output_type": "execute_result"
    }
   ],
   "source": [
    "catalognumbers.where(catalognumbers.number == 0).head(10)"
   ]
  },
  {
   "cell_type": "code",
   "execution_count": 49,
   "metadata": {
    "collapsed": false
   },
   "outputs": [
    {
     "data": {
      "text/plain": [
       "[Row(catalognumber='r-70049', number=0),\n",
       " Row(catalognumber='70049', number=70049),\n",
       " Row(catalognumber='70049', number=70049),\n",
       " Row(catalognumber='70049', number=70049),\n",
       " Row(catalognumber='70049', number=70049),\n",
       " Row(catalognumber='70049', number=70049)]"
      ]
     },
     "execution_count": 49,
     "metadata": {},
     "output_type": "execute_result"
    }
   ],
   "source": [
    "catalognumbers.where(\"catalognumber='r-70049' OR catalognumber='70049'\").head(10)"
   ]
  },
  {
   "cell_type": "markdown",
   "metadata": {},
   "source": [
    "Well there certainly is and there are repeated catalog numbers too. We certainly can't assume that 'r-70049' is the same as '70049' and if we could we certainly can't guess at the catalog number practices across collections."
   ]
  },
  {
   "cell_type": "markdown",
   "metadata": {},
   "source": [
    "## Graphing\n",
    "\n",
    "So let's just throw this on a graph."
   ]
  },
  {
   "cell_type": "code",
   "execution_count": 50,
   "metadata": {
    "collapsed": false
   },
   "outputs": [],
   "source": [
    "catalognumbers_pd = (catalognumbers\n",
    "                     .select(catalognumbers.number)\n",
    "                     .sort(catalognumbers.number)\n",
    "                     .toPandas()\n",
    "                     )"
   ]
  },
  {
   "cell_type": "code",
   "execution_count": 51,
   "metadata": {
    "collapsed": false
   },
   "outputs": [
    {
     "data": {
      "text/html": [
       "<div>\n",
       "<table border=\"1\" class=\"dataframe\">\n",
       "  <thead>\n",
       "    <tr style=\"text-align: right;\">\n",
       "      <th></th>\n",
       "      <th>number</th>\n",
       "    </tr>\n",
       "  </thead>\n",
       "  <tbody>\n",
       "    <tr>\n",
       "      <th>count</th>\n",
       "      <td>1.870300e+06</td>\n",
       "    </tr>\n",
       "    <tr>\n",
       "      <th>mean</th>\n",
       "      <td>1.360576e+05</td>\n",
       "    </tr>\n",
       "    <tr>\n",
       "      <th>std</th>\n",
       "      <td>1.592863e+05</td>\n",
       "    </tr>\n",
       "    <tr>\n",
       "      <th>min</th>\n",
       "      <td>0.000000e+00</td>\n",
       "    </tr>\n",
       "    <tr>\n",
       "      <th>25%</th>\n",
       "      <td>0.000000e+00</td>\n",
       "    </tr>\n",
       "    <tr>\n",
       "      <th>50%</th>\n",
       "      <td>8.840300e+04</td>\n",
       "    </tr>\n",
       "    <tr>\n",
       "      <th>75%</th>\n",
       "      <td>1.934892e+05</td>\n",
       "    </tr>\n",
       "    <tr>\n",
       "      <th>max</th>\n",
       "      <td>3.107998e+06</td>\n",
       "    </tr>\n",
       "  </tbody>\n",
       "</table>\n",
       "</div>"
      ],
      "text/plain": [
       "             number\n",
       "count  1.870300e+06\n",
       "mean   1.360576e+05\n",
       "std    1.592863e+05\n",
       "min    0.000000e+00\n",
       "25%    0.000000e+00\n",
       "50%    8.840300e+04\n",
       "75%    1.934892e+05\n",
       "max    3.107998e+06"
      ]
     },
     "execution_count": 51,
     "metadata": {},
     "output_type": "execute_result"
    }
   ],
   "source": [
    "catalognumbers_pd.describe()"
   ]
  },
  {
   "cell_type": "code",
   "execution_count": 53,
   "metadata": {
    "collapsed": false
   },
   "outputs": [
    {
     "data": {
      "text/html": [
       "<div>\n",
       "<table border=\"1\" class=\"dataframe\">\n",
       "  <thead>\n",
       "    <tr style=\"text-align: right;\">\n",
       "      <th></th>\n",
       "      <th>number</th>\n",
       "    </tr>\n",
       "  </thead>\n",
       "  <tbody>\n",
       "    <tr>\n",
       "      <th>1870290</th>\n",
       "      <td>678476</td>\n",
       "    </tr>\n",
       "    <tr>\n",
       "      <th>1870291</th>\n",
       "      <td>678477</td>\n",
       "    </tr>\n",
       "    <tr>\n",
       "      <th>1870292</th>\n",
       "      <td>678478</td>\n",
       "    </tr>\n",
       "    <tr>\n",
       "      <th>1870293</th>\n",
       "      <td>678479</td>\n",
       "    </tr>\n",
       "    <tr>\n",
       "      <th>1870294</th>\n",
       "      <td>678480</td>\n",
       "    </tr>\n",
       "    <tr>\n",
       "      <th>1870295</th>\n",
       "      <td>678481</td>\n",
       "    </tr>\n",
       "    <tr>\n",
       "      <th>1870296</th>\n",
       "      <td>678482</td>\n",
       "    </tr>\n",
       "    <tr>\n",
       "      <th>1870297</th>\n",
       "      <td>1125825</td>\n",
       "    </tr>\n",
       "    <tr>\n",
       "      <th>1870298</th>\n",
       "      <td>1125828</td>\n",
       "    </tr>\n",
       "    <tr>\n",
       "      <th>1870299</th>\n",
       "      <td>3107998</td>\n",
       "    </tr>\n",
       "  </tbody>\n",
       "</table>\n",
       "</div>"
      ],
      "text/plain": [
       "          number\n",
       "1870290   678476\n",
       "1870291   678477\n",
       "1870292   678478\n",
       "1870293   678479\n",
       "1870294   678480\n",
       "1870295   678481\n",
       "1870296   678482\n",
       "1870297  1125825\n",
       "1870298  1125828\n",
       "1870299  3107998"
      ]
     },
     "execution_count": 53,
     "metadata": {},
     "output_type": "execute_result"
    }
   ],
   "source": [
    "catalognumbers_pd[-10:]"
   ]
  },
  {
   "cell_type": "code",
   "execution_count": 65,
   "metadata": {
    "collapsed": false
   },
   "outputs": [
    {
     "data": {
      "text/plain": [
       "<matplotlib.text.Text at 0x7f2467c8c390>"
      ]
     },
     "execution_count": 65,
     "metadata": {},
     "output_type": "execute_result"
    },
    {
     "data": {
      "image/png": "[encoded data removed]",
      "text/plain": [
       "<matplotlib.figure.Figure at 0x7f246728ea20>"
      ]
     },
     "metadata": {},
     "output_type": "display_data"
    }
   ],
   "source": [
    "%matplotlib inline\n",
    "import matplotlib.pyplot as plt\n",
    "plt.plot(catalognumbers_pd.index.values[:-3],\n",
    "         catalognumbers_pd[:-3][\"number\"])\n",
    "plt.axis([0, 2000000, 0, 2000000])\n",
    "plt.xlabel(\"Rank of specimen record\")\n",
    "plt.ylabel(\"Numeric catalog number\")\n",
    "plt.title(\"Catalog numbers from Museum of Comparative Zoology,\\nHarvard University (271a9ce9-c6d3-4b63-a722-cb0adc48863f)\")"
   ]
  },
  {
   "cell_type": "markdown",
   "metadata": {},
   "source": [
    "Let's zoom in on some interesting parts."
   ]
  },
  {
   "cell_type": "code",
   "execution_count": 75,
   "metadata": {
    "collapsed": false
   },
   "outputs": [
    {
     "data": {
      "text/plain": [
       "[1418000, 1419000, 199000, 201000]"
      ]
     },
     "execution_count": 75,
     "metadata": {},
     "output_type": "execute_result"
    },
    {
     "data": {
      "image/png": "[encoded data removed]",
      "text/plain": [
       "<matplotlib.figure.Figure at 0x7f246bd282e8>"
      ]
     },
     "metadata": {},
     "output_type": "display_data"
    }
   ],
   "source": [
    "x_start = 1418000\n",
    "x_end = 1419000\n",
    "y_start = 199000\n",
    "y_end = 201000\n",
    "\n",
    "plt.plot(catalognumbers_pd.index.values[x_start:x_end],\n",
    "         catalognumbers_pd[x_start:x_end][\"number\"])\n",
    "plt.axis([x_start, x_end, y_start, y_end])"
   ]
  },
  {
   "cell_type": "code",
   "execution_count": 83,
   "metadata": {
    "collapsed": false
   },
   "outputs": [
    {
     "data": {
      "text/plain": [
       "[1850000, 1875000, 600000, 700000]"
      ]
     },
     "execution_count": 83,
     "metadata": {},
     "output_type": "execute_result"
    },
    {
     "data": {
      "image/png": "[encoded data removed]",
      "text/plain": [
       "<matplotlib.figure.Figure at 0x7f24715fdc50>"
      ]
     },
     "metadata": {},
     "output_type": "display_data"
    }
   ],
   "source": [
    "x_start = 1850000\n",
    "x_end = 1875000\n",
    "y_start = 600000\n",
    "y_end = 700000\n",
    "\n",
    "plt.plot(catalognumbers_pd.index.values[x_start:x_end],\n",
    "         catalognumbers_pd[x_start:x_end][\"number\"])\n",
    "plt.axis([x_start, x_end, y_start, y_end])"
   ]
  },
  {
   "cell_type": "markdown",
   "metadata": {},
   "source": [
    "## Observations\n",
    "\n",
    "1. Even a recordset with lots of sequential catalog numbers can have non-numeric ones that can't be interpreted or equated easily.\n",
    "1. Catalog numbers can break sequence like the last 3 in the recordset which are excluded from the graph.\n",
    "1. Slopes below 1 indicate that catalog numbers are being repeated.\n",
    "1. Changes in slope indicate a systemic change in the repetition of catalog numbers.\n",
    "1. Vertical lines are breaks in sequence.\\\n",
    "1. Maybe the tank problem approach only would apply to recently digitized materials like the final graph.\n"
   ]
  }
 ],
 "metadata": {
  "kernelspec": {
   "display_name": "PySpark Medium (py3)",
   "language": "python",
   "name": "pyspark3-med"
  },
  "language_info": {
   "codemirror_mode": {
    "name": "ipython",
    "version": 3
   },
   "file_extension": ".py",
   "mimetype": "text/x-python",
   "name": "python",
   "nbconvert_exporter": "python",
   "pygments_lexer": "ipython3",
   "version": "3.5.2"
  }
 },
 "nbformat": 4,
 "nbformat_minor": 1
}
