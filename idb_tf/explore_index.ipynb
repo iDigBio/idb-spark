{
 "cells": [
  {
   "cell_type": "code",
   "execution_count": 1,
   "metadata": {
    "collapsed": true
   },
   "outputs": [],
   "source": [
    "import pyspark.sql.functions as sql\n",
    "import pyspark.sql.types as types\n",
    "idb_df_version = \"20161119\"\n",
    "size=\"\""
   ]
  },
  {
   "cell_type": "code",
   "execution_count": 2,
   "metadata": {
    "collapsed": false
   },
   "outputs": [
    {
     "data": {
      "text/plain": [
       "151178670"
      ]
     },
     "execution_count": 2,
     "metadata": {},
     "output_type": "execute_result"
    }
   ],
   "source": [
    "idb_tf_df = sqlContext.read.parquet(\"/guoda/data/idigbio-{0}-tf{1}.parquet\".format(idb_df_version, size))\n",
    "idb_tf_df.count()"
   ]
  },
  {
   "cell_type": "code",
   "execution_count": 3,
   "metadata": {
    "collapsed": false
   },
   "outputs": [
    {
     "data": {
      "text/plain": [
       "73504034"
      ]
     },
     "execution_count": 3,
     "metadata": {},
     "output_type": "execute_result"
    }
   ],
   "source": [
    "idb_df = sqlContext.read.parquet(\"/guoda/data/idigbio-{0}{1}.parquet\".format(idb_df_version, size))\n",
    "idb_df.count()"
   ]
  },
  {
   "cell_type": "code",
   "execution_count": 4,
   "metadata": {
    "collapsed": true
   },
   "outputs": [],
   "source": [
    "idb_df_ids = (idb_df\n",
    "              .select(idb_df[\"uuid\"].alias(\"idb_uuid\"),\n",
    "                      idb_df[\"catalognumber\"].alias(\"idb_catalognumber\"))\n",
    "              )"
   ]
  },
  {
   "cell_type": "code",
   "execution_count": 5,
   "metadata": {
    "collapsed": false
   },
   "outputs": [],
   "source": [
    "idb_df_notes = (idb_df\n",
    "               .select(idb_df[\"uuid\"].alias(\"note_uuid\"),\n",
    "                       sql.concat_ws(\" \", idb_df[\"data.dwc:occurrenceRemarks\"],\n",
    "                          idb_df[\"data.dwc:eventRemarks\"],\n",
    "                          idb_df[\"data.dwc:fieldNotes\"]\n",
    "                          )\n",
    "                          .alias(\"note\")\n",
    "                      )\n",
    "               )"
   ]
  },
  {
   "cell_type": "code",
   "execution_count": 6,
   "metadata": {
    "collapsed": false
   },
   "outputs": [
    {
     "data": {
      "text/plain": [
       "2935734441"
      ]
     },
     "execution_count": 6,
     "metadata": {},
     "output_type": "execute_result"
    }
   ],
   "source": [
    "joined = (idb_df_ids        \n",
    "          .join(idb_tf_df, on=idb_df_ids[\"idb_catalognumber\"]==idb_tf_df[\"token\"])\n",
    "          .join(idb_df_notes, on=sql.column(\"uuid\")==idb_df_notes[\"note_uuid\"])\n",
    "          .withColumn(\"catalognumber_len\", sql.length(sql.column(\"idb_catalognumber\")))\n",
    "         )\n",
    "\n",
    "joined.count()"
   ]
  },
  {
   "cell_type": "code",
   "execution_count": 7,
   "metadata": {
    "collapsed": false
   },
   "outputs": [
    {
     "data": {
      "text/plain": [
       "Row(idb_uuid='182764c2-52da-4ac7-8eaf-f392243dd646', idb_catalognumber='.', uuid='000060b2-227c-444f-bb20-0301f25a161e', token='.', count=1, note_uuid='000060b2-227c-444f-bb20-0301f25a161e', note='Preserved 22 Jan 1984.', catalognumber_len=1)"
      ]
     },
     "execution_count": 7,
     "metadata": {},
     "output_type": "execute_result"
    }
   ],
   "source": [
    "joined.head()"
   ]
  },
  {
   "cell_type": "code",
   "execution_count": 8,
   "metadata": {
    "collapsed": false
   },
   "outputs": [
    {
     "data": {
      "text/html": [
       "<div>\n",
       "<table border=\"1\" class=\"dataframe\">\n",
       "  <thead>\n",
       "    <tr style=\"text-align: right;\">\n",
       "      <th></th>\n",
       "      <th>catalognumber_len</th>\n",
       "      <th>count</th>\n",
       "    </tr>\n",
       "  </thead>\n",
       "  <tbody>\n",
       "    <tr>\n",
       "      <th>0</th>\n",
       "      <td>1</td>\n",
       "      <td>1314912287</td>\n",
       "    </tr>\n",
       "    <tr>\n",
       "      <th>1</th>\n",
       "      <td>6</td>\n",
       "      <td>138556200</td>\n",
       "    </tr>\n",
       "  </tbody>\n",
       "</table>\n",
       "</div>"
      ],
      "text/plain": [
       "   catalognumber_len       count\n",
       "0                  1  1314912287\n",
       "1                  6   138556200"
      ]
     },
     "execution_count": 8,
     "metadata": {},
     "output_type": "execute_result"
    }
   ],
   "source": [
    "length_pd = (joined\n",
    "               .groupBy(joined[\"catalognumber_len\"])\n",
    "               .count()\n",
    "               ).toPandas()\n",
    "length_pd.head(2)"
   ]
  },
  {
   "cell_type": "code",
   "execution_count": 17,
   "metadata": {
    "collapsed": false
   },
   "outputs": [
    {
     "data": {
      "text/plain": [
       "(13, 2)"
      ]
     },
     "execution_count": 17,
     "metadata": {},
     "output_type": "execute_result"
    }
   ],
   "source": [
    "length_pd.shape"
   ]
  },
  {
   "cell_type": "code",
   "execution_count": 29,
   "metadata": {
    "collapsed": false
   },
   "outputs": [],
   "source": [
    "import numpy\n",
    "length_pd[\"log_count\"] = numpy.log10(length_pd[\"count\"])"
   ]
  },
  {
   "cell_type": "code",
   "execution_count": 30,
   "metadata": {
    "collapsed": false
   },
   "outputs": [
    {
     "name": "stdout",
     "output_type": "stream",
     "text": [
      "    catalognumber_len       count  log_catalognumber_len  log_count\n",
      "0                   1  1314912287               0.000000   9.118897\n",
      "1                   6   138556200               0.778151   8.141626\n",
      "2                  16           2               1.204120   0.301030\n",
      "3                   3   212986935               0.477121   8.328353\n",
      "4                   5   123868957               0.698970   8.092962\n",
      "5                   9       45511               0.954243   4.658116\n",
      "6                   4   531911093               0.602060   8.725839\n",
      "7                   8       35533               0.903090   4.550632\n",
      "8                   7       73042               0.845098   4.863573\n",
      "9                  10           4               1.000000   0.602060\n",
      "10                 11        7017               1.041393   3.846151\n",
      "11                 14           5               1.146128   0.698970\n",
      "12                  2   613337855               0.301030   8.787700\n"
     ]
    }
   ],
   "source": [
    "print(length_pd)"
   ]
  },
  {
   "cell_type": "code",
   "execution_count": 31,
   "metadata": {
    "collapsed": false
   },
   "outputs": [
    {
     "data": {
      "text/plain": [
       "<matplotlib.figure.Figure at 0x7fd552a576a0>"
      ]
     },
     "metadata": {},
     "output_type": "display_data"
    },
    {
     "data": {
      "image/png": "[encoded data removed]",
      "text/plain": [
       "<matplotlib.figure.Figure at 0x7fd54f082e10>"
      ]
     },
     "metadata": {},
     "output_type": "display_data"
    }
   ],
   "source": [
    "import matplotlib\n",
    "import matplotlib.pyplot as plt\n",
    "matplotlib.style.use('ggplot')\n",
    "\n",
    "plt.figure();\n",
    "(length_pd\n",
    " .sort_values(by=\"catalognumber_len\")\n",
    " .plot(x=\"catalognumber_len\", y=\"log_count\", kind=\"bar\")\n",
    ")\n",
    "\n",
    "plt.show()"
   ]
  },
  {
   "cell_type": "code",
   "execution_count": 22,
   "metadata": {
    "collapsed": false
   },
   "outputs": [
    {
     "data": {
      "text/html": [
       "<div>\n",
       "<table border=\"1\" class=\"dataframe\">\n",
       "  <thead>\n",
       "    <tr style=\"text-align: right;\">\n",
       "      <th></th>\n",
       "      <th>catalognumber_len</th>\n",
       "      <th>count</th>\n",
       "    </tr>\n",
       "  </thead>\n",
       "  <tbody>\n",
       "    <tr>\n",
       "      <th>10</th>\n",
       "      <td>11</td>\n",
       "      <td>7017</td>\n",
       "    </tr>\n",
       "  </tbody>\n",
       "</table>\n",
       "</div>"
      ],
      "text/plain": [
       "    catalognumber_len  count\n",
       "10                 11   7017"
      ]
     },
     "execution_count": 22,
     "metadata": {},
     "output_type": "execute_result"
    }
   ],
   "source": [
    "length_pd[length_pd[\"catalognumber_len\"] == 11]"
   ]
  },
  {
   "cell_type": "code",
   "execution_count": null,
   "metadata": {
    "collapsed": true
   },
   "outputs": [],
   "source": [
    "(joined\n",
    "    .write\n",
    "    .parquet(\"/outputs/idb-tokens-joined-{}.parquet\".format(idb_df_version))\n",
    ")"
   ]
  },
  {
   "cell_type": "code",
   "execution_count": null,
   "metadata": {
    "collapsed": true
   },
   "outputs": [],
   "source": []
  }
 ],
 "metadata": {
  "kernelspec": {
   "display_name": "PySpark Large (py3)",
   "language": "python",
   "name": "pyspark3-lrg"
  },
  "language_info": {
   "codemirror_mode": {
    "name": "ipython",
    "version": 3
   },
   "file_extension": ".py",
   "mimetype": "text/x-python",
   "name": "python",
   "nbconvert_exporter": "python",
   "pygments_lexer": "ipython3",
   "version": "3.5.2"
  }
 },
 "nbformat": 4,
 "nbformat_minor": 1
}
