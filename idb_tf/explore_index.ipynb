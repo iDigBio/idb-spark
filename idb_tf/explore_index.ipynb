{
 "cells": [
  {
   "cell_type": "code",
   "execution_count": 46,
   "metadata": {
    "collapsed": true
   },
   "outputs": [],
   "source": [
    "import pyspark.sql.functions as sql\n",
    "import pyspark.sql.types as types\n",
    "idb_df_version = \"20161119\"\n",
    "size=\"-100k\""
   ]
  },
  {
   "cell_type": "code",
   "execution_count": 47,
   "metadata": {
    "collapsed": false
   },
   "outputs": [
    {
     "data": {
      "text/plain": [
       "232306"
      ]
     },
     "execution_count": 47,
     "metadata": {},
     "output_type": "execute_result"
    }
   ],
   "source": [
    "idb_tf_df = sqlContext.read.parquet(\"/guoda/data/idigbio-{0}-tf{1}.parquet\".format(idb_df_version, size))\n",
    "idb_tf_df.count()"
   ]
  },
  {
   "cell_type": "code",
   "execution_count": 48,
   "metadata": {
    "collapsed": false
   },
   "outputs": [
    {
     "data": {
      "text/plain": [
       "100000"
      ]
     },
     "execution_count": 48,
     "metadata": {},
     "output_type": "execute_result"
    }
   ],
   "source": [
    "idb_df = sqlContext.read.parquet(\"/guoda/data/idigbio-{0}{1}.parquet\".format(idb_df_version, size))\n",
    "idb_df.count()"
   ]
  },
  {
   "cell_type": "code",
   "execution_count": 49,
   "metadata": {
    "collapsed": true
   },
   "outputs": [],
   "source": [
    "idb_df_ids = (idb_df\n",
    "              .select(idb_df[\"uuid\"].alias(\"idb_uuid\"),\n",
    "                      idb_df[\"catalognumber\"].alias(\"idb_catalognumber\"))\n",
    "              )"
   ]
  },
  {
   "cell_type": "code",
   "execution_count": 50,
   "metadata": {
    "collapsed": false
   },
   "outputs": [
    {
     "data": {
      "text/plain": [
       "Row(note_uuid='b73cb619-3129-4d58-ad05-ed74d15ada4c', note='')"
      ]
     },
     "execution_count": 50,
     "metadata": {},
     "output_type": "execute_result"
    }
   ],
   "source": [
    "idb_df_notes = (idb_df\n",
    "               .select(idb_df[\"uuid\"].alias(\"note_uuid\"),\n",
    "                       sql.concat_ws(\" \", idb_df[\"data.dwc:occurrenceRemarks\"],\n",
    "                          idb_df[\"data.dwc:eventRemarks\"],\n",
    "                          idb_df[\"data.dwc:fieldNotes\"]\n",
    "                          )\n",
    "                          .alias(\"note\")\n",
    "                      )\n",
    "               )\n",
    "idb_df_notes.head()"
   ]
  },
  {
   "cell_type": "code",
   "execution_count": 51,
   "metadata": {
    "collapsed": false
   },
   "outputs": [
    {
     "data": {
      "text/plain": [
       "6839"
      ]
     },
     "execution_count": 51,
     "metadata": {},
     "output_type": "execute_result"
    }
   ],
   "source": [
    "joined = (idb_df_ids        \n",
    "          .join(idb_tf_df, on=idb_df_ids[\"idb_catalognumber\"]==idb_tf_df[\"token\"])\n",
    "          .join(idb_df_notes, on=sql.column(\"uuid\")==idb_df_notes[\"note_uuid\"])\n",
    "          .withColumn(\"catalognumber_len\", sql.length(sql.column(\"idb_catalognumber\")))\n",
    "         )\n",
    "\n",
    "joined.count()"
   ]
  },
  {
   "cell_type": "code",
   "execution_count": 52,
   "metadata": {
    "collapsed": false
   },
   "outputs": [
    {
     "data": {
      "text/plain": [
       "Row(idb_uuid='b73f7532-78dd-4aae-a874-707ffd8b5622', idb_catalognumber='4891', uuid='b819d2c3-636b-4011-8070-507d31e926b6', token='4891', count=1, note_uuid='b819d2c3-636b-4011-8070-507d31e926b6', note=\"[ Eugamasus lyriformis | 4891 | PN | inner bark | lob. 16' | cut 5.14.65 emad. | coll 6.14.65 gone | D. Frontalis only | Elizabeth, La. ][ AL12910 | OSAL04838 | live | J. Moser - Berlese's ]\", catalognumber_len=4)"
      ]
     },
     "execution_count": 52,
     "metadata": {},
     "output_type": "execute_result"
    }
   ],
   "source": [
    "joined.head()"
   ]
  },
  {
   "cell_type": "code",
   "execution_count": 53,
   "metadata": {
    "collapsed": false
   },
   "outputs": [
    {
     "data": {
      "text/html": [
       "<div>\n",
       "<table border=\"1\" class=\"dataframe\">\n",
       "  <thead>\n",
       "    <tr style=\"text-align: right;\">\n",
       "      <th></th>\n",
       "      <th>catalognumber_len</th>\n",
       "      <th>count</th>\n",
       "    </tr>\n",
       "  </thead>\n",
       "  <tbody>\n",
       "    <tr>\n",
       "      <th>0</th>\n",
       "      <td>1</td>\n",
       "      <td>2503</td>\n",
       "    </tr>\n",
       "    <tr>\n",
       "      <th>1</th>\n",
       "      <td>6</td>\n",
       "      <td>33</td>\n",
       "    </tr>\n",
       "  </tbody>\n",
       "</table>\n",
       "</div>"
      ],
      "text/plain": [
       "   catalognumber_len  count\n",
       "0                  1   2503\n",
       "1                  6     33"
      ]
     },
     "execution_count": 53,
     "metadata": {},
     "output_type": "execute_result"
    }
   ],
   "source": [
    "length_pd = (joined\n",
    "               .groupBy(joined[\"catalognumber_len\"])\n",
    "               .count()\n",
    "               ).toPandas()\n",
    "length_pd.head(2)"
   ]
  },
  {
   "cell_type": "code",
   "execution_count": 54,
   "metadata": {
    "collapsed": false
   },
   "outputs": [
    {
     "data": {
      "text/plain": [
       "<matplotlib.axes._subplots.AxesSubplot at 0x7fcb207b8c18>"
      ]
     },
     "execution_count": 54,
     "metadata": {},
     "output_type": "execute_result"
    },
    {
     "data": {
      "text/plain": [
       "<matplotlib.figure.Figure at 0x7fcb2068f6a0>"
      ]
     },
     "metadata": {},
     "output_type": "display_data"
    },
    {
     "data": {
      "image/png": "[encoded data removed]",
      "text/plain": [
       "<matplotlib.figure.Figure at 0x7fcb206618d0>"
      ]
     },
     "metadata": {},
     "output_type": "display_data"
    }
   ],
   "source": [
    "import matplotlib\n",
    "import matplotlib.pyplot as plt\n",
    "matplotlib.style.use('ggplot')\n",
    "\n",
    "plt.figure();\n",
    "(length_pd\n",
    " .sort_values(by=\"catalognumber_len\")\n",
    " .plot(x=\"catalognumber_len\", y=\"count\", kind=\"bar\")\n",
    ")"
   ]
  },
  {
   "cell_type": "code",
   "execution_count": null,
   "metadata": {
    "collapsed": true
   },
   "outputs": [],
   "source": []
  }
 ],
 "metadata": {
  "kernelspec": {
   "display_name": "PySpark (py3)",
   "language": "python",
   "name": "pyspark3"
  },
  "language_info": {
   "codemirror_mode": {
    "name": "ipython",
    "version": 3
   },
   "file_extension": ".py",
   "mimetype": "text/x-python",
   "name": "python",
   "nbconvert_exporter": "python",
   "pygments_lexer": "ipython3",
   "version": "3.5.2"
  }
 },
 "nbformat": 4,
 "nbformat_minor": 1
}
