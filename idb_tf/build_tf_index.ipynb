{
 "cells": [
  {
   "cell_type": "code",
   "execution_count": null,
   "metadata": {
    "collapsed": true
   },
   "outputs": [],
   "source": [
    "idb_df = sqlContext.read.parquet(\"/guoda/data/idigbio-20161025.parquet\")"
   ]
  }
 ],
 "metadata": {
  "kernelspec": {
   "display_name": "PySpark (py3)",
   "language": "python",
   "name": "pyspark3"
  }
 },
 "nbformat": 4,
 "nbformat_minor": 1
}
