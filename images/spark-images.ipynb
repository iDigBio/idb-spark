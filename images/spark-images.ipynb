{
 "cells": [
  {
   "cell_type": "code",
   "execution_count": 1,
   "metadata": {
    "collapsed": false
   },
   "outputs": [],
   "source": [
    "from urllib.request import urlopen\n",
    "from io import BytesIO\n",
    "from PIL import Image\n",
    "from imagehash import phash\n",
    "from pyspark.sql import functions as F\n",
    "from pyspark.sql import types as T\n",
    "import numpy as np"
   ]
  },
  {
   "cell_type": "code",
   "execution_count": 2,
   "metadata": {
    "collapsed": false
   },
   "outputs": [],
   "source": [
    "df = sqlContext.read.parquet(\"/guoda/data/idigbio-media-20170709T013207-100k.parquet\")"
   ]
  },
  {
   "cell_type": "code",
   "execution_count": 3,
   "metadata": {
    "collapsed": false
   },
   "outputs": [
    {
     "name": "stdout",
     "output_type": "stream",
     "text": [
      "+--------------------+\n",
      "|           accessuri|\n",
      "+--------------------+\n",
      "|http://mediaphoto...|\n",
      "|http://mediaphoto...|\n",
      "|http://mediaphoto...|\n",
      "|http://mediaphoto...|\n",
      "|http://mediaphoto...|\n",
      "|http://mediaphoto...|\n",
      "|http://mediaphoto...|\n",
      "|http://mediaphoto...|\n",
      "|http://mediaphoto...|\n",
      "|http://mediaphoto...|\n",
      "|http://mediaphoto...|\n",
      "|http://mediaphoto...|\n",
      "|http://mediaphoto...|\n",
      "|http://mediaphoto...|\n",
      "|http://mediaphoto...|\n",
      "|http://mediaphoto...|\n",
      "|http://mediaphoto...|\n",
      "|http://mediaphoto...|\n",
      "|http://mediaphoto...|\n",
      "|http://mediaphoto...|\n",
      "+--------------------+\n",
      "only showing top 20 rows\n",
      "\n"
     ]
    }
   ],
   "source": [
    "df[[\"accessuri\"]].show()"
   ]
  },
  {
   "cell_type": "code",
   "execution_count": 4,
   "metadata": {
    "collapsed": false
   },
   "outputs": [],
   "source": [
    "def accessimage(v):\n",
    "    try:\n",
    "        return hash(phash(Image.open(BytesIO(urlopen(\"http://api.idigbio.org/v2/media?size=thumbnail&filereference=\" + v).read()))))\n",
    "    except:\n",
    "        return np.nan\n",
    "ai_udf = F.udf(accessimage, T.IntegerType())"
   ]
  },
  {
   "cell_type": "code",
   "execution_count": 5,
   "metadata": {
    "collapsed": false
   },
   "outputs": [],
   "source": [
    "image_df = df.select(\"accessuri\", ai_udf(\"accessuri\"))"
   ]
  },
  {
   "cell_type": "code",
   "execution_count": null,
   "metadata": {
    "collapsed": false
   },
   "outputs": [],
   "source": [
    "image_df.groupby(\"accessimage(accessuri)\").count().sort(F.col(\"count\").desc()).show()"
   ]
  },
  {
   "cell_type": "code",
   "execution_count": null,
   "metadata": {
    "collapsed": true
   },
   "outputs": [],
   "source": []
  }
 ],
 "metadata": {
  "kernelspec": {
   "display_name": "1 - PySpark Python3 Small",
   "language": "python",
   "name": "pyspark3-small"
  },
  "language_info": {
   "codemirror_mode": {
    "name": "ipython",
    "version": 3
   },
   "file_extension": ".py",
   "mimetype": "text/x-python",
   "name": "python",
   "nbconvert_exporter": "python",
   "pygments_lexer": "ipython3",
   "version": "3.5.2"
  }
 },
 "nbformat": 4,
 "nbformat_minor": 1
}
